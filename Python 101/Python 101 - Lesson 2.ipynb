{
 "cells": [
  {
   "cell_type": "markdown",
   "metadata": {},
   "source": [
    "# Python 101\n",
    "\n",
    "Welcome to Python 101, a basic class on Python that will be the gateway class to future projects, like introduction to ML using Python, and others.  This notebook is only for lesson one.  A new notebook will be created for future lessons and you can work in the notebook or take the code out and work in your preferred Integrated Development Environment (IDE).  We'll be going over what a Jupyter notebook is, and what a few IDEs you can look at are as well.  Choose the best environment for you!\n",
    "\n",
    "## What you need for this class\n",
    "- A computer with any Operating System (Windows, Mac, Linux)\n",
    "- Jupyter Notebook Environment\n",
    "- Internet Connection\n",
    "- Github Account\n",
    "- 1 hour per class!\n",
    "\n",
    "Every class may require different items, but we'll talk about what you need going into the next class at the end of each hour.\n",
    "\n",
    "All classes are recorded (if you speak during the initial class recording in voice chat, please be aware that your voice will be recorded in the class video) and can be reviewed at a later time.  With that understood, let's get started."
   ]
  },
  {
   "cell_type": "markdown",
   "metadata": {},
   "source": [
    "## Lesson 2\n",
    "\n",
    "Today's class will introduce variables, variable types, and ways to make sure the variable you're using is the type you expect.  Building from the end of Lesson 1, we'll also discuss printing and completing a function within a print statement.  Finally, we'll go over basic maths, library imports, and formating!\n",
    "\n",
    "After this class, we'll be working on Challenge 1!\n",
    "\n",
    "Hint:\n",
    "    The following urls may help with the challenge, and are prety fun.\n",
    "        https://www.asciiart.eu/\n",
    "        https://www.geeksforgeeks.org/python-ascii-art-using-pyfiglet-module/"
   ]
  },
  {
   "cell_type": "markdown",
   "metadata": {},
   "source": [
    "To begin, we're going to import a library.  Python has a lot of libraries built into it, and some may use the same function names so to avoid these issues, we'll be importing a library and sublibrary to work with.  If you need to install a new library that isn't in your Jupyter Notebook environment you can do so using the following in a code block:\n",
    "\n",
    "`!pip install LibraryName`\n",
    "\n",
    "Once you do that, or if the library is already installed, you want to import the library.\n",
    "\n",
    "`import LibraryName`\n",
    "\n",
    "And in cases where you only want a specific (or series) of functions from that library you can do the following:\n",
    "\n",
    "`from LibraryName import FunctionName`\n",
    "\n",
    "Let's test this out with pyfiglet."
   ]
  },
  {
   "cell_type": "code",
   "execution_count": null,
   "metadata": {},
   "outputs": [],
   "source": [
    "# This is where we import libraries and functions.\n",
    "\n",
    "from pyfiglet import figlet_format"
   ]
  },
  {
   "cell_type": "markdown",
   "metadata": {},
   "source": [
    "Now that we've done this, we can use the function later on in this document!  Some people prefer to do imports right in the cells they'll be using the imports in, and others like to have all the imports at the top of the document.  Personally, I keep all of my imports in one spot at the top of the document to ensure I know everything I am using, but this is pereference.\n",
    "\n",
    "Now let's do a brief introduction to variables and variable naming!"
   ]
  },
  {
   "cell_type": "code",
   "execution_count": 1,
   "metadata": {},
   "outputs": [
    {
     "name": "stdout",
     "output_type": "stream",
     "text": [
      "<class 'int'>\n",
      "12\n",
      "<class 'float'>\n",
      "12.56\n",
      "<class 'str'>\n",
      "1\n",
      "<class 'str'>\n",
      "twelve\n"
     ]
    }
   ],
   "source": [
    "#------------------------------------------------------------------------------\n",
    "#   Variables in Python include quite a few types; today we focus on\n",
    "#       integers, floating point numbers, and strings\n",
    "#   Protip for variable names, do not use: O0 l1 1337\n",
    "#------------------------------------------------------------------------------\n",
    "\n",
    "a = 12          #   int\n",
    "b = 12.56       #   float\n",
    "c = '1'         #   string\n",
    "d = \"twelve\"    #   string\n",
    "\n",
    "print(type(a))\n",
    "print(a)\n",
    "print(type(b))\n",
    "print(b)\n",
    "print(type(c))\n",
    "print(c)\n",
    "print(type(d))\n",
    "print(d)"
   ]
  },
  {
   "cell_type": "code",
   "execution_count": 2,
   "metadata": {},
   "outputs": [
    {
     "name": "stdout",
     "output_type": "stream",
     "text": [
      "\n",
      "\tHello, world!\n",
      "\n",
      "\t\tGoodbye!\n"
     ]
    }
   ],
   "source": [
    "#------------------------------------------------------------------------------\n",
    "#   Sometimes names will get reused and you'll end up with different printed\n",
    "#     outcomes than you expected.  Here's an example.\n",
    "#------------------------------------------------------------------------------\n",
    "\n",
    "hello = \"\\n\\tHello, world!\"\n",
    "hello = \"\\n\\t\\tGoodbye!\"\n",
    "bye = hello\n",
    "\n",
    "print(\"\\n\\tHello, world!\")\n",
    "\n",
    "print(bye)"
   ]
  },
  {
   "cell_type": "markdown",
   "metadata": {},
   "source": [
    "Since we're working with strings and printing, let's talk about functions in a print statement coupled with some word-play."
   ]
  },
  {
   "cell_type": "code",
   "execution_count": 10,
   "metadata": {},
   "outputs": [
    {
     "name": "stdout",
     "output_type": "stream",
     "text": [
      "Spider Overlord\n",
      "SPIDER OVERLORD\n",
      "spider overlord\n",
      "Spider Overlord\n"
     ]
    }
   ],
   "source": [
    "name = \"spider overlord\"\n",
    "print(name.title())\n",
    "print(name.upper())\n",
    "\n",
    "name = \"spIdEr ovErlOrd\"\n",
    "print(name.lower())\n",
    "\n",
    "word1 = \"spider\"\n",
    "word2 = \"overlord\"\n",
    "full_name = word1 + \" \" + word2\n",
    "print(full_name.title())"
   ]
  },
  {
   "cell_type": "markdown",
   "metadata": {},
   "source": [
    "Another great function to use with print statements is the `.strip()` family.  For this we'll use some fun examples."
   ]
  },
  {
   "cell_type": "code",
   "execution_count": 15,
   "metadata": {},
   "outputs": [
    {
     "name": "stdout",
     "output_type": "stream",
     "text": [
      "Gengar  Test\n",
      "Gengar Test\n",
      "Gengar Test\n",
      "Test  Exodia\n",
      "Test Exodia\n",
      "Test Exodia\n",
      "Test  Renamon  Test\n",
      "Test Renamon Test\n",
      "Test Renamon Test\n"
     ]
    }
   ],
   "source": [
    "best_pokemon = \"Gengar \"\n",
    "print(best_pokemon, \"Test\")\n",
    "print(best_pokemon.rstrip(), \"Test\")\n",
    "\n",
    "best_pokemon = best_pokemon.rstrip()\n",
    "print (best_pokemon, \"Test\")\n",
    "\n",
    "best_ygo = \" Exodia\"\n",
    "print(\"Test\", best_ygo)\n",
    "print(\"Test\", best_ygo.lstrip())\n",
    "\n",
    "best_ygo = best_ygo.lstrip()\n",
    "print(\"Test\", best_ygo)\n",
    "\n",
    "best_digi = \" Renamon \"\n",
    "print(\"Test\", best_digi, \"Test\")\n",
    "print(\"Test\", best_digi.strip(), \"Test\")\n",
    "\n",
    "best_digi = best_digi.strip()\n",
    "print(\"Test\", best_digi, \"Test\")"
   ]
  },
  {
   "cell_type": "markdown",
   "metadata": {},
   "source": [
    "Finally, it's maths time!  Let's look at how we can incorporate maths and strings, and print multiple types at once before going into some basic equations."
   ]
  },
  {
   "cell_type": "code",
   "execution_count": 3,
   "metadata": {},
   "outputs": [
    {
     "name": "stdout",
     "output_type": "stream",
     "text": [
      "<class 'float'>\n",
      "24.560000000000002\n",
      "24\n",
      "25\n",
      "\n",
      "<class 'int'>\n",
      "The variable y is: 37 \n",
      "\n",
      "Spiders are super awesome.\n",
      "Why? \n",
      "Because I, the spider overlord, say so, obviously!\n",
      "Here we have  12 being added to  12.56 to equal  24.560000000000002 but we don't want decimals so let's round it to  25\n"
     ]
    }
   ],
   "source": [
    "#------------------------------------------------------------------------------\n",
    "\n",
    "z = a + b\n",
    "print(type(z))\n",
    "print(z)        #   Prints as is.\n",
    "print(int(z))   #   Prints only the integer of the float\n",
    "print(round(z)) #   Rounds to the nearst int based on decimals\n",
    "\n",
    "print()\n",
    "\n",
    "y = a + 25\n",
    "print(type(y))\n",
    "print(\"The variable y is:\", y, \"\\n\")\n",
    "\n",
    "print(\"Spiders are super awesome.\\n\" \\\n",
    "      \"Why? \\nBecause I, the spider overlord, say so, obviously!\")\n",
    "    \n",
    "print(\n",
    "      \"Here we have \", a,\n",
    "      \"being added to \", b,\n",
    "      \"to equal \", z,\n",
    "      \"but we don't want decimals so let's round it to \", round(z)\n",
    "      )"
   ]
  },
  {
   "cell_type": "code",
   "execution_count": 16,
   "metadata": {},
   "outputs": [
    {
     "name": "stdout",
     "output_type": "stream",
     "text": [
      "19\n",
      "17\n",
      "48\n",
      "8.0\n",
      "9\n",
      "33\n",
      "98\n",
      "3.6\n",
      "-6.8\n",
      "0.4\n",
      "400.0\n"
     ]
    }
   ],
   "source": [
    "print(13 + 6)\n",
    "print(24 - 7)\n",
    "print(4 * 12)\n",
    "print(80 / 10)\n",
    "\n",
    "print(3 ** 2)\n",
    "\n",
    "print(5 + 2 * 14)\n",
    "print((5 + 2) * 14)\n",
    "\n",
    "print(3.0 + 0.6)\n",
    "print(0.2 - 7)\n",
    "print(4 * 0.1)\n",
    "print(80 / 0.2)"
   ]
  },
  {
   "cell_type": "markdown",
   "metadata": {},
   "source": [
    "<div class=\"alert alert-block alert-danger\">\n",
    "    <font color = red>Assignment</font>: Find or write a short (one paragraph) write-up / story.  You'll be printing the paragragh with the following requirements:\n",
    "\n",
    "* Uses at least one newline.\n",
    "* There is a number stored as its own variable, and printed using that variable within the paragraph.\n",
    "* Any names are stored as their own variable(s) and there is at least one name.\n",
    "* For emphasis, use upper or lower functions on variables.  Create new variables if needed.\n",
    "** Bonus Points: Print the solution to an equastion in the paragraph.  Example, if you need to use the number 5 how could you have that print without breaking up the following sentence: Justin's cat is 5 years old.\n",
    "</div>\n"
   ]
  },
  {
   "cell_type": "markdown",
   "metadata": {},
   "source": [
    "Finally, we made it!  Now we're going to use both our imported function from earlier, as well as create our homework signature going forward!  As mentioned last week, we are interested in ASCII art here.  You can make a handle to use for this assignment (like my main one: `Levitannin`), your name/nickname, or try to print out an image!  Whichever you chose, note that this is your signature for all future challenges and homework assignments and MUST be in all turned-in notebooks."
   ]
  },
  {
   "cell_type": "code",
   "execution_count": 4,
   "metadata": {},
   "outputs": [
    {
     "name": "stdout",
     "output_type": "stream",
     "text": [
      "Spider\n",
      ":'######::'########::'####:'########::'########:'########::\n",
      "'##... ##: ##.... ##:. ##:: ##.... ##: ##.....:: ##.... ##:\n",
      " ##:::..:: ##:::: ##:: ##:: ##:::: ##: ##::::::: ##:::: ##:\n",
      ". ######:: ########::: ##:: ##:::: ##: ######::: ########::\n",
      ":..... ##: ##.....:::: ##:: ##:::: ##: ##...:::: ##.. ##:::\n",
      "'##::: ##: ##::::::::: ##:: ##:::: ##: ##::::::: ##::. ##::\n",
      ". ######:: ##::::::::'####: ########:: ########: ##:::. ##:\n",
      ":......:::..:::::::::....::........:::........::..:::::..::\n",
      "\n"
     ]
    }
   ],
   "source": [
    "#------------------------------------------------------------------------------\n",
    "#   Here's my example!\n",
    "\n",
    "\n",
    "text = \"Spider\"\n",
    "print(text)\n",
    "result = figlet_format(text, font=\"banner3-D\")\n",
    "print(result)\n"
   ]
  },
  {
   "cell_type": "markdown",
   "metadata": {},
   "source": [
    "<div class=\"alert alert-block alert-danger\">\n",
    "    <font color = red>Assignment</font>: Create a Hello World python script.  However, unlike initial scripts you may have tried in the past, this challenge does not end with text!\n",
    "\n",
    "Here are mission requirements:\n",
    "* Know how to import libraries\n",
    "* Find an ASCII art library\n",
    "* Know how to print text or strings.\n",
    "* Convert a string to ASCII art.\n",
    "* Print ASCII art text.\n",
    "* Print ASCII art as your symbol for future challenges!\n",
    "** BONUS CHALLENGE: Print art using ONE print statement!\n",
    "</div>"
   ]
  },
  {
   "cell_type": "code",
   "execution_count": null,
   "metadata": {},
   "outputs": [],
   "source": []
  }
 ],
 "metadata": {
  "kernelspec": {
   "display_name": "Python 3",
   "language": "python",
   "name": "python3"
  },
  "language_info": {
   "codemirror_mode": {
    "name": "ipython",
    "version": 3
   },
   "file_extension": ".py",
   "mimetype": "text/x-python",
   "name": "python",
   "nbconvert_exporter": "python",
   "pygments_lexer": "ipython3",
   "version": "3.7.6"
  }
 },
 "nbformat": 4,
 "nbformat_minor": 4
}
