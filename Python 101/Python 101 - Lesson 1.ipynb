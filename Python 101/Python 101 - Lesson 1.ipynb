{
 "cells": [
  {
   "cell_type": "markdown",
   "metadata": {},
   "source": [
    "# Python 101\n",
    "\n",
    "Welcome to Python 101, a basic class on Python that will be the gateway class to future projects, like introduction to ML using Python, and others.  This notebook is only for lesson one.  A new notebook will be created for future lessons and you can work in the notebook or take the code out and work in your preferred Integrated Development Environment (IDE).  We'll be going over what a Jupyter notebook is, and what a few IDEs you can look at are as well.  Choose the best environment for you!\n",
    "\n",
    "## What you need for this class\n",
    "- A computer with any Operating System (Windows, Mac, Linux)\n",
    "- Jupyter Notebook Environment\n",
    "- Internet Connection\n",
    "- Github Account\n",
    "- 1 hour per class!\n",
    "\n",
    "Every class may require different items, but we'll talk about what you need going into the next class at the end of each hour.\n",
    "\n",
    "All classes are recorded (if you speak during the initial class recording in voice chat, please be aware that your voice will be recorded in the class video) and can be reviewed at a later time.  With that understood, let's get started."
   ]
  },
  {
   "cell_type": "markdown",
   "metadata": {},
   "source": [
    "##Objectives for Python 101 - Lesson 1\n",
    "\n",
    "During today's class we're going to focus on getting an environment up and running, and ensuring everyone has a github where homework assignments will be posted for review in future classes.\n",
    "\n",
    "### Python Programming Environment\n",
    "\n",
    "In order to program in any langauge, you'll need to make sure you have the langauge packages on the system you're working on.  In many cases, the operating system can affect different aspects of your code, depending on what you're working on.  Primarily OS commands.  To avoid that issue, for now, we'll all be working in a virtual environment that can allow for collaboration, as well as code exchange.\n",
    "\n",
    "There are a few ways to set up this environment.  I won't go through step-by-step for all of them, but will link resources below.  Since we'll be working in Jupyter Notebooks (more about that later), there are a few ways you can access these notebooks and create new ones.\n",
    "\n",
    "Options include:\n",
    "- Google Colab\n",
    "- Anaconda\n",
    "- Virtualenv\n",
    "- PyCharm\n",
    "\n",
    "In this document we'll be focusing on Google Collab and Andaconda.  Ultimately which you choose to use is up to you and your preferences.\n",
    "\n",
    "#### Google Colaboratory\n",
    "\n",
    "Want a virtually hosted and colaborative environment?  Look no further than Google Colab, a research area where you can create Jupyter Notebooks and store them in the cloud, attached to your G-Mail account.  Who cares what computer or operating system you have, so long as you have internet access and a browser?  The biggest pro to this notebook is that you can share a link with someone for instant access, without worrying about uploading to GitHub, the other person downloading the notebook, and then evaluation.  The downside is you're limited to the CPU power that Notebook instance has based on what Google has, or you can buy more power.  You should still always backup your notebooks in GitHub for a number of reasons.\n",
    "\n",
    "If you have a G-Mail account, check out the following link (if you don't and you want to use this tool, time to make a G-Mail!): [Google Colab](https://colab.research.google.com/)\n",
    "\n",
    "#### Anaconda\n",
    "\n",
    "Anaconda comes in a variety of versions, but we're focusing on the [Individual Edition](https://www.anaconda.com/products/individual) that is free to everyone and available on Windows, Mac, and Linux hosts.  Anaconda can be used as a Python IDE and for the programming Language R, though Python is the primary.  This is traditionally a Data Science tool where you can access various Conda Packages or environments to work in (such as Jupyter Notebooks, Spyder, and others).  Although this may not matter at this stage in the game, for anyone interested in Machine Learning, Anaconda is extremely useful and more flexible than Google Colab.  It all depends on what you need.  Right now we're just focused on Jupyter Notebooks, however the user interface (a desktop GUI so there aren't any worries about command lines or terminals for those unfamiliar) is friendly and easy to learn in.\n",
    "\n",
    "#### Other Options\n",
    "\n",
    "Although we aren't focused on them right now, there are other options for setting up the Jupyter Notebook environment.  Firstly, and really the root of it all, is setting up a \"VirtualEnv\" (which, if you're interested, check out this [guide](https://towardsdatascience.com/virtual-environments-104c62d48c54)!).  This allows you to create self-contained and reproducable projects, including but not limited to Jupyter Notebooks.  You'll work on the notebook in a browser but it will actually be hosted locally in the segmented space allocated to the environment.\n",
    "\n",
    "Another option is PyCharm, which acts somewhat like Anaconda although it isn't quite as robust.  Here you can see what your Jupyter Notebook will look like live as you're editing it (more on that later), which is often very helpful.  The interface reminds me of [Overleaf](https://www.overleaf.com/), a tool used for colaborative writing in LaTeX.\n",
    "\n",
    "There are plenty of other set ups and IDEs out there that you can look into, like the base IDE that comes with Python, [IDLE](https://docs.python.org/3/library/idle.html), or maybe even [Atom](https://atom.io/).  Those don't necessarily involve using Jupyter Notebook, so we won't be diving into those at this point.\n",
    "\n",
    "<div class=\"alert alert-block alert-danger\">\n",
    "    <font color = red>Assignment</font>: Pick a programming environment that allows you to use Jupyter Notebook and set up your environment on whatever host you plan to use going forward.\n",
    "</div>\n",
    "\n",
    "### Github\n",
    "\n",
    "What is [GitHub](https://github.com/) and why is it important?  Basically, GitHub is a web-based interface using Git (a free and open source distributed version control system ... find more [here](https://git-scm.com)).  Basically, this allows for a clear workflow on different software tasks, and allows for multiple persons to make changes at the same time -- not to mention fantastic documentation and historical information that can be reviewed!\n",
    "\n",
    "Let's cover a few key words we want to know about GitHub:\n",
    "\n",
    "__<font color = green>Repository</font>__:  A folder where all the files for a project are stored.  There can be an internal file structure too.  These are usually called _Repo_ in shorthand.<br>\n",
    "__<font color = green>Branch</font>__: If you want to test something in a repo, you can make a branch.  Anything done in the branch will not affect the main unless merged.<br>\n",
    "__<font color = green>Markdown</font>__: A way to convert plain text into code.  Some IDEs use this like Atom or Sublime Text, and so does Jupyter Notebook -- We're using it now!<br>\n",
    "__<font color = green>Commit Changes</font>__: A saved record, or documentation, of any changes made to a file within a repo.<br>\n",
    "__<font color = green>Pull Request</font>__: A way to ask the owner of a main line of code to merge changes with a branch.  This is often used if an outside party to the original owner(s) works on the code.  In shorthand, this may be called a _PR_.<br>\n",
    "__<font color = green>Merge</font>__:  Approval of a PR causes a branch to be merged with the main files.<br>\n",
    "__<font color = green>Issues</font>__:  This is a method of tracking work using git.  Users can report bugs or problems to be worked on, or request new asks, context, etc.  A way to track progress on a project.<br>\n",
    "\n",
    "You can dig into more details [here](https://digital.gov/resources/an-introduction-github/).  For this class we're going to use GitHub to share our work with myself or among each other.  This will allow for collaboration, as well as a way to share our accomplishments.  This is particularly important for homework tasks!  You'll find this notebook, and future lessons, on my GitHub in the [Python Tutorials Repo](https://github.com/levitannin/Python-Tutorials).\n",
    "\n",
    "<div class=\"alert alert-block alert-danger\">\n",
    "    <font color = red>Assignment</font>: Set up a GitHub account and start a repo for this class!\n",
    "</div>\n",
    "\n",
    "\n",
    "### Jupyter Notebook\n",
    "\n",
    "We've already covered a lot, with multiple references to Jupyter Notebooks.  But what is a Jupyter Notebook?  Basically this is a document format, known as a _notebook_ which contains python as well as rich text elements.  Rich text elements include paragraphs, equations, figures, images, links, etc.  This allows the notebook documentation to be human-readable as well as executable in the same location.\n",
    "\n",
    "Jupyter Notebooks are often used for data analysis or machine learning, however I find that this environment is fantastic for learning since you can add as many notes as you'd like into the same space as your code.  This allows you to come back later and understand what you were working on with suplimental documentation.\n",
    "\n",
    "To find out more, feel free to review the [Jupyter Notebook Beginner Guide](https://jupyter-notebook-beginner-guide.readthedocs.io/en/latest/index.html).\n",
    "\n",
    "#### Markdown\n",
    "\n",
    "Finally, let's review how to make your notebook looks spiffy.  Generally speaking, this means how do you __bold__ text, or _italic_ text?  How about <font color = blue>change colours</font>?  Maybe you plan on writing notes about a `file path or file name` and want that to stand out?\n",
    "\n",
    "> Want to indent something?\n",
    "\n",
    "- Or maybe you need bullet points?\n",
    "\n",
    "There are a lot of options for ways to customize your notebook!  The way you do this is by creating a _Markdown Cell_ and using Markdown syntax to edit your text.  Double click this cell and you'll see all the Markdown trick's I've been using this whole time!  For more information, you can check out this [Markdown for Jupyter Notebooks Cheatsheet](https://www.ibm.com/docs/en/db2-event-store/2.0.0?topic=notebooks-markdown-jupyter-cheatsheet).\n",
    "\n",
    "#### How to Make New Cells?\n",
    "\n",
    "At the top of your notebook you'll see a header with a drop down called _Cell_.  Click that and you'll be able to create a Markdown cell, for notes, or a code cell for python code.  The way the notebook interprets what you're typing will look different based on the cell you're using.  Markdown won't work in a code cell, for example, and vice versa with code in a Markdown cell.\n",
    "\n",
    "In order to see how your Markdown works, or the output of your code, you'll just need to press the _Run_ button at the top of the screen."
   ]
  },
  {
   "cell_type": "markdown",
   "metadata": {},
   "source": [
    "## Python\n",
    "\n",
    "Now let's talk [Python](https://www.python.org/).\n",
    "\n",
    "Pythons are adorable snakes...but that's probably not relevant to this class.  For now.  Rather, we're here to talk about python as a programming langauge using scripting techniques and syntax to allow for the code to be more human-readable than you'll see with other languages, like C/C++, C#, etc.  Python has a large variety of uses, all fueled by the simplicity of the syntax significantly lowing how many lines of code a programmer needs to write.\n",
    "\n",
    "We'll be touching on the Python syntax today and get you that big _Hello World!_ moment, while prepping to dig in even further during the next class.  The next set of notes will be as comments in a code cell -- which are hugely important!\n",
    "\n",
    "__<font color = green>Comments</font>__: Text in a block of code helping to explain what is happening.  Comments often appear at the top of a long script with a brief description of the code's function, and shorter comments may appear throughout the code."
   ]
  },
  {
   "cell_type": "code",
   "execution_count": 3,
   "metadata": {},
   "outputs": [
    {
     "name": "stdout",
     "output_type": "stream",
     "text": [
      "Hello World!\n"
     ]
    }
   ],
   "source": [
    "#   Using a pound or hashtag symbol, you can create a single line comment!\n",
    "'''\n",
    "    Using a triple-quote at the start and end\n",
    "        of a comment block\n",
    "            allows you to\n",
    "                have a multi-line\n",
    "                    comment structure!\n",
    "                    \n",
    "Notes are important, and we'll go into more details on that later.\n",
    "For now, let's get you that first line of code -- say hello to a new world!\n",
    "\n",
    "We'll be using a print statement as follows:\n",
    "'''\n",
    "\n",
    "print(\"Hello World!\")\n",
    "\n",
    "'''\n",
    "    You'll see that when you run this cell, you can't see the comments in the outcome.  That's by design.\n",
    "    Only the code is important for outcome, but the notes are here to help you.\n",
    "    \n",
    "    We've done it now!  We've used our first bit of Python code to print an output onto your screen!\n",
    "'''\n"
   ]
  },
  {
   "cell_type": "markdown",
   "metadata": {},
   "source": [
    "You did it!  Congrats, you've made it past the first step of Python -- the _Print Function_.  Print is an ability Python has that's built into the language itself, meaning you don't need to do anything more than call it.  On the back end, Python is doing various activities to get those words to appear on your screen.  Other than an output, nothing here is stored as a variable yet -- something we'll be going over in the next class!\n",
    "\n",
    "<div class=\"alert alert-block alert-danger\">\n",
    "    <font color = red>Assignment</font>: Create a notebook and practice writing comments and printing statements.  What happens if you have a block of text?  Can you print multiple lines in one print statement?  Feel free to look up some variations on print, though we'll be digging into this deeper next class.\n",
    "</div>"
   ]
  },
  {
   "cell_type": "code",
   "execution_count": null,
   "metadata": {},
   "outputs": [],
   "source": []
  }
 ],
 "metadata": {
  "kernelspec": {
   "display_name": "Python 3",
   "language": "python",
   "name": "python3"
  },
  "language_info": {
   "codemirror_mode": {
    "name": "ipython",
    "version": 3
   },
   "file_extension": ".py",
   "mimetype": "text/x-python",
   "name": "python",
   "nbconvert_exporter": "python",
   "pygments_lexer": "ipython3",
   "version": "3.7.6"
  }
 },
 "nbformat": 4,
 "nbformat_minor": 4
}
